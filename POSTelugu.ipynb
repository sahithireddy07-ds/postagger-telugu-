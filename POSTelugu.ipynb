{
  "nbformat": 4,
  "nbformat_minor": 0,
  "metadata": {
    "colab": {
      "name": "POSTelugu.ipynb",
      "provenance": [],
      "collapsed_sections": []
    },
    "kernelspec": {
      "name": "python3",
      "display_name": "Python 3"
    },
    "language_info": {
      "name": "python"
    }
  },
  "cells": [
    {
      "cell_type": "markdown",
      "metadata": {
        "id": "VX3ybbCRcP35"
      },
      "source": [
        "#PARTS OF SPEECH(POS)\n",
        "The part of speech explains how a word is used in a sentence."
      ]
    },
    {
      "cell_type": "markdown",
      "metadata": {
        "id": "eTlyWSTbeY_o"
      },
      "source": [
        "**About Data**\n",
        "\n",
        "*  The data used is indian corpus which is a tagged data. \n"
      ]
    },
    {
      "cell_type": "markdown",
      "metadata": {
        "id": "9pbvvC7jd0UA"
      },
      "source": [
        "**TnT(Trigrams'n'Tags)**\n",
        "\n",
        "*  It is a statistical tagger that works on second-order Markov models.\n",
        "*  It is a very efficient part-of-speech tagger that can be trained on different languages and on any tagset.\n",
        "*  Parameter to modify for TnT is N i.e. it controls the no. of possible solutions the tagger maintains.\n",
        "*  By defaults N = 100.\n",
        "*  Amount of memory will increase if increase the value of N, without any specific increase of accuracy.\n"
      ]
    },
    {
      "cell_type": "markdown",
      "metadata": {
        "id": "WMLtNHihe-hM"
      },
      "source": [
        "**Averaged Perceptron tagger**\n",
        "\n",
        "* Structured prediction:For POS tagging the simplest\n",
        "approach is break the problem down to per-token tagging and then\n",
        "tag left to right.\n",
        "*  The perceptron stores a sparse linear vector of (feature, weight)\n",
        "pairs. Observations are scored by taking the dot product of their\n",
        "feature vector with the perceptron. Training is done trying a\n",
        "prediction, and updating incorrect weights by reenforcing or\n",
        "penalising them depending on whether they correspond with the\n",
        "correct observation.\n",
        "* To get the best weights the\n",
        "perceptron is trained for several iterations on reshuffled observations\n",
        "and the averaged weights across the whole training period are saved\n",
        "as the final weights."
      ]
    },
    {
      "cell_type": "code",
      "metadata": {
        "id": "rPSrQPF25LbV",
        "colab": {
          "base_uri": "https://localhost:8080/"
        },
        "outputId": "f6526b20-4921-49b0-eb27-90a446ab1630"
      },
      "source": [
        "import nltk\n",
        "nltk.download('punkt')  #word_tokenize"
      ],
      "execution_count": null,
      "outputs": [
        {
          "output_type": "stream",
          "text": [
            "[nltk_data] Downloading package punkt to /root/nltk_data...\n",
            "[nltk_data]   Unzipping tokenizers/punkt.zip.\n"
          ],
          "name": "stdout"
        },
        {
          "output_type": "execute_result",
          "data": {
            "text/plain": [
              "True"
            ]
          },
          "metadata": {
            "tags": []
          },
          "execution_count": 1
        }
      ]
    },
    {
      "cell_type": "code",
      "metadata": {
        "colab": {
          "base_uri": "https://localhost:8080/"
        },
        "id": "eH049mZeT_ck",
        "outputId": "9bf3fa41-2fa2-42df-ad4e-6fbc1f766b32"
      },
      "source": [
        "import nltk\n",
        "nltk.download(\"indian\") #corpus"
      ],
      "execution_count": null,
      "outputs": [
        {
          "output_type": "stream",
          "text": [
            "[nltk_data] Downloading package indian to /root/nltk_data...\n",
            "[nltk_data]   Unzipping corpora/indian.zip.\n"
          ],
          "name": "stdout"
        },
        {
          "output_type": "execute_result",
          "data": {
            "text/plain": [
              "True"
            ]
          },
          "metadata": {
            "tags": []
          },
          "execution_count": 2
        }
      ]
    },
    {
      "cell_type": "markdown",
      "metadata": {
        "id": "at1JtK9Vna8N"
      },
      "source": [
        "* Importing libraries"
      ]
    },
    {
      "cell_type": "code",
      "metadata": {
        "id": "_EFGmiPtEfp0"
      },
      "source": [
        "from nltk import word_tokenize\n",
        "from nltk.corpus import indian\n",
        "from nltk.tag import tnt\n",
        "from nltk.tag import perceptron\n",
        "from nltk.tag import DefaultTagger"
      ],
      "execution_count": null,
      "outputs": []
    },
    {
      "cell_type": "code",
      "metadata": {
        "colab": {
          "base_uri": "https://localhost:8080/"
        },
        "id": "k_uGqK_CBl3Y",
        "outputId": "df62aa4d-c150-4b6e-fb70-b274cc17e3f9"
      },
      "source": [
        "indian.fileids() #different pos"
      ],
      "execution_count": null,
      "outputs": [
        {
          "output_type": "execute_result",
          "data": {
            "text/plain": [
              "['bangla.pos', 'hindi.pos', 'marathi.pos', 'telugu.pos']"
            ]
          },
          "metadata": {
            "tags": []
          },
          "execution_count": 4
        }
      ]
    },
    {
      "cell_type": "code",
      "metadata": {
        "colab": {
          "base_uri": "https://localhost:8080/"
        },
        "id": "z9BlFbhrUUMG",
        "outputId": "5eb3a9a4-fb99-4397-ac65-08059075b019"
      },
      "source": [
        "for i in indian.fileids():          #tagged words\n",
        "  print(i)\n",
        "  print(len(indian.words(i)))"
      ],
      "execution_count": null,
      "outputs": [
        {
          "output_type": "stream",
          "text": [
            "bangla.pos\n",
            "10281\n",
            "hindi.pos\n",
            "9408\n",
            "marathi.pos\n",
            "19066\n",
            "telugu.pos\n",
            "9999\n"
          ],
          "name": "stdout"
        }
      ]
    },
    {
      "cell_type": "code",
      "metadata": {
        "id": "GUd8CJ2zUo3l",
        "colab": {
          "base_uri": "https://localhost:8080/"
        },
        "outputId": "0795c71c-0bbf-4f7a-b149-31c0a31eb692"
      },
      "source": [
        "tel_sent=indian.sents(\"telugu.pos\")\n",
        "print(tel_sent)"
      ],
      "execution_count": null,
      "outputs": [
        {
          "output_type": "stream",
          "text": [
            "[['4', '.'], ['ఆడిట్', 'నిర్వహణ', 'ఆడిటర్', 'ఒక', 'కొత్త', 'ఆడిట్', 'చేపట్టే', 'ముందు', 'సక్రమ', 'పద్ధతి', 'లో', 'కార్య', 'ప్రణాళికను', 'రూపొందించాలి', '.'], ...]\n"
          ],
          "name": "stdout"
        }
      ]
    },
    {
      "cell_type": "markdown",
      "metadata": {
        "id": "DXwTtCwttP_w"
      },
      "source": [
        "- Number of sentences"
      ]
    },
    {
      "cell_type": "code",
      "metadata": {
        "colab": {
          "base_uri": "https://localhost:8080/"
        },
        "id": "yq3hDeLEsOxZ",
        "outputId": "1e6d898c-f64c-43a7-af27-46f7a26a2b93"
      },
      "source": [
        "len(tel_sent)"
      ],
      "execution_count": null,
      "outputs": [
        {
          "output_type": "execute_result",
          "data": {
            "text/plain": [
              "994"
            ]
          },
          "metadata": {
            "tags": []
          },
          "execution_count": 7
        }
      ]
    },
    {
      "cell_type": "code",
      "metadata": {
        "colab": {
          "base_uri": "https://localhost:8080/"
        },
        "id": "tGLS7wdUiERV",
        "outputId": "b3dfadf1-1b26-4e4f-af89-f61f9ad6f79b"
      },
      "source": [
        "a=indian.tagged_sents(\"telugu.pos\")[1]\n",
        "a"
      ],
      "execution_count": null,
      "outputs": [
        {
          "output_type": "execute_result",
          "data": {
            "text/plain": [
              "[('ఆడిట్', 'NN'),\n",
              " ('నిర్వహణ', 'NN'),\n",
              " ('ఆడిటర్', 'NN'),\n",
              " ('ఒక', 'QFNUM'),\n",
              " ('కొత్త', 'JJ'),\n",
              " ('ఆడిట్', 'NN'),\n",
              " ('చేపట్టే', 'VRB'),\n",
              " ('ముందు', 'PREP'),\n",
              " ('సక్రమ', 'JJ'),\n",
              " ('పద్ధతి', 'NN'),\n",
              " ('లో', 'PREP'),\n",
              " ('కార్య', 'JJ'),\n",
              " ('ప్రణాళికను', 'NN'),\n",
              " ('రూపొందించాలి', 'VFM'),\n",
              " ('.', 'SYM')]"
            ]
          },
          "metadata": {
            "tags": []
          },
          "execution_count": 16
        }
      ]
    },
    {
      "cell_type": "markdown",
      "metadata": {
        "id": "EKYkdqXWtT5b"
      },
      "source": [
        "training of tnt and accuracy of tnt tagger"
      ]
    },
    {
      "cell_type": "code",
      "metadata": {
        "colab": {
          "base_uri": "https://localhost:8080/"
        },
        "id": "nwPrsaqSg8Pg",
        "outputId": "84a12eca-8ed0-41a1-8389-5291276c3205"
      },
      "source": [
        " # initializing training and testing set    \n",
        "train_data = indian.tagged_sents(\"telugu.pos\")[:900]\n",
        "test_data = indian.tagged_sents(\"telugu.pos\")[900:] \n",
        "# initializing tagger\n",
        "tnt_tagger = tnt.TnT(N=100)  \n",
        "# training \n",
        "tnt_tagger.train(train_data)  \n",
        "# evaluating\n",
        "a = tnt_tagger.evaluate(test_data) \n",
        "print (\"Accuracy of TnT Tagging : \", a)"
      ],
      "execution_count": null,
      "outputs": [
        {
          "output_type": "stream",
          "text": [
            "Accuracy of TnT Tagging :  0.5234093637454982\n"
          ],
          "name": "stdout"
        }
      ]
    },
    {
      "cell_type": "code",
      "metadata": {
        "id": "H5yIjfx0tOgr"
      },
      "source": [
        "ex=\"ఇది ఒక వాక్యం కాదు.\""
      ],
      "execution_count": null,
      "outputs": []
    },
    {
      "cell_type": "code",
      "metadata": {
        "id": "bNL89FcE6wZr",
        "colab": {
          "base_uri": "https://localhost:8080/"
        },
        "outputId": "f5487bbf-1ef7-49b1-f0ce-6ba925adda3c"
      },
      "source": [
        "tokens=word_tokenize(ex)\n",
        "tokens"
      ],
      "execution_count": null,
      "outputs": [
        {
          "output_type": "execute_result",
          "data": {
            "text/plain": [
              "['ఇది', 'ఒక', 'వాక్యం', 'కాదు', '.']"
            ]
          },
          "metadata": {
            "tags": []
          },
          "execution_count": 10
        }
      ]
    },
    {
      "cell_type": "code",
      "metadata": {
        "colab": {
          "base_uri": "https://localhost:8080/"
        },
        "id": "e4Dv9LlN6n6v",
        "outputId": "8d168f57-e246-465c-e3d0-542a56c39aed"
      },
      "source": [
        "test=tnt_tagger.tag_sents([[i for i in tokens]])\n",
        "test"
      ],
      "execution_count": null,
      "outputs": [
        {
          "output_type": "execute_result",
          "data": {
            "text/plain": [
              "[[('ఇది', 'PRP'),\n",
              "  ('ఒక', 'JJ'),\n",
              "  ('వాక్యం', 'Unk'),\n",
              "  ('కాదు', 'NEG'),\n",
              "  ('.', 'SYM')]]"
            ]
          },
          "metadata": {
            "tags": []
          },
          "execution_count": 11
        }
      ]
    },
    {
      "cell_type": "markdown",
      "metadata": {
        "id": "1zF8ucwbtZ69"
      },
      "source": [
        "training of perceptron tagger and accuracy of tagger"
      ]
    },
    {
      "cell_type": "code",
      "metadata": {
        "id": "0CY5sQ584xSK",
        "colab": {
          "base_uri": "https://localhost:8080/"
        },
        "outputId": "102c0271-f22f-4ab5-c1b2-471606e7b875"
      },
      "source": [
        " # initializing tagger\n",
        "pcp_tagger = perceptron.PerceptronTagger(load=False) \n",
        "# training \n",
        "pcp_tagger.train(train_data) \n",
        "# evaluating\n",
        "b = pcp_tagger.evaluate(test_data) \n",
        "print (\"Accuracy of perceptron Tagging : \", b)"
      ],
      "execution_count": null,
      "outputs": [
        {
          "output_type": "stream",
          "text": [
            "Accuracy of perceptron Tagging :  0.7899159663865546\n"
          ],
          "name": "stdout"
        }
      ]
    },
    {
      "cell_type": "code",
      "metadata": {
        "colab": {
          "base_uri": "https://localhost:8080/"
        },
        "id": "FLp7jmCDBBiO",
        "outputId": "ec1a5a8e-961e-4749-b06c-b3d4dd46ebe7"
      },
      "source": [
        "test1=pcp_tagger.tag_sents([[i for i in tokens]])\n",
        "test1"
      ],
      "execution_count": null,
      "outputs": [
        {
          "output_type": "execute_result",
          "data": {
            "text/plain": [
              "[[('ఇది', 'PRP'),\n",
              "  ('ఒక', 'JJ'),\n",
              "  ('వాక్యం', 'NN'),\n",
              "  ('కాదు', 'NEG'),\n",
              "  ('.', 'SYM')]]"
            ]
          },
          "metadata": {
            "tags": []
          },
          "execution_count": 13
        }
      ]
    },
    {
      "cell_type": "markdown",
      "metadata": {
        "id": "7UtIWZ1zs2dA"
      },
      "source": [
        "- conclusion\n",
        "\n",
        "Average perceptron tagger is the best tagger(algorithm) among tnt tagger."
      ]
    }
  ]
}